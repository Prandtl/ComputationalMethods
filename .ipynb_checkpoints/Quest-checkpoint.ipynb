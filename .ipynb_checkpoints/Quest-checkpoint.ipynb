{
 "cells": [
  {
   "cell_type": "markdown",
   "metadata": {},
   "source": [
    "ЧИСЛЕННЫЕ МЕТОДЫ\n",
    "-----------------\n",
    "## 1.Погрешность арифметических действий.\n",
    "Для начала введем следующие обозначения:\n",
    "\n",
    "$x$ - вещественное число          \n",
    "$x^*$ - его приближение  \n",
    "Тогда будем называть $A_{x^*} =|x^*-x|$ абсолютной погрешностью числа и $\\Delta_{x^*}=\\frac{A_{x^*}}{|x^*|}$(где $x^*\\ne 0$) относительной погрешностью числа."
   ]
  },
  {
   "cell_type": "code",
   "execution_count": null,
   "metadata": {
    "collapsed": true
   },
   "outputs": [],
   "source": []
  }
 ],
 "metadata": {
  "kernelspec": {
   "display_name": "Python 2",
   "language": "python",
   "name": "python2"
  },
  "language_info": {
   "codemirror_mode": {
    "name": "ipython",
    "version": 2
   },
   "file_extension": ".py",
   "mimetype": "text/x-python",
   "name": "python",
   "nbconvert_exporter": "python",
   "pygments_lexer": "ipython2",
   "version": "2.7.11"
  }
 },
 "nbformat": 4,
 "nbformat_minor": 0
}
