{
 "cells": [
  {
   "cell_type": "markdown",
   "metadata": {},
   "source": [
    "ЧИСЛЕННЫЕ МЕТОДЫ\n",
    "-----------------\n",
    "## 1.Погрешность арифметических действий.\n",
    "Для начала введем следующие обозначения:\n",
    "\n",
    "$x$ - вещественное число          \n",
    "$x^*$ - его приближение  \n",
    "Тогда будем называть $A_{x^*} =|x^*-x|$ абсолютной погрешностью числа и $\\Delta_{x^*}=\\frac{A_{x^*}}{|x^*|}$(где $x^*\\ne 0$) относительной погрешностью числа.\n",
    "\n",
    "### Погрешность арифметических действий\n",
    "Исследуем функцию $$ y = f(x_1,x_2,\\dots,x_n) $$\n",
    "Предположим, что для всех аргументов функции даны приближения: $x_1^*,x_2^*,\\dots,x_n^*$ со следующими абсолютными погрешностями: $A_{x_1^*},A_{x_2^*},\\dots,A_{x_n^*}$             \n",
    "Приближенным значением $y$ будет $y^*$:$$y^*=f(x_1^*,x_2^*,\\dots,x_n^*)$$\n",
    "Найдем абсолютную погрешность функции: $$|y^*-y|=|f(X^*)-f(X)|$$\n",
    "Пусть $$X(t) = X + t(X^*-X),$$тогда $X^*=X(1), X=X(0)$\n",
    "$$A_{y^*}=|f(X(0)) - f(X(1))|=|\\phi(0) - \\phi(1)|;\\phi(t)=f(X(t))$$\n",
    "К функции $\\phi(t)$ применим формулу конечных приращений Лагранжа: $$|\\phi(0)-\\phi(1)|=|\\phi'(c)||0 - 1|,c\\in[0,1]$$\n",
    "Вычислим $\\phi'(t)$ и произведем оценку сверху\n",
    "$$|\\phi(0)-\\phi(1)|=\\sum\\limits_{i=1}^n |\\frac{\\delta f}{\\delta x_i}(X(c))||x_i-x_{i^*}|\\leq \\sum\\limits_{i=1}^n |\\frac{\\delta f}{\\delta x_i}(X(c))|A_{x^*_i}$$\n",
    "Значит: $$A_{y^*}\\approx\\sum\\limits_{i=1}^n |\\frac{\\delta f}{\\delta x_i}(X(c))|A_{x^*_i}$$"
   ]
  },
  {
   "cell_type": "code",
   "execution_count": null,
   "metadata": {
    "collapsed": true
   },
   "outputs": [],
   "source": []
  }
 ],
 "metadata": {
  "kernelspec": {
   "display_name": "Python 2",
   "language": "python",
   "name": "python2"
  },
  "language_info": {
   "codemirror_mode": {
    "name": "ipython",
    "version": 2
   },
   "file_extension": ".py",
   "mimetype": "text/x-python",
   "name": "python",
   "nbconvert_exporter": "python",
   "pygments_lexer": "ipython2",
   "version": "2.7.11"
  }
 },
 "nbformat": 4,
 "nbformat_minor": 0
}
